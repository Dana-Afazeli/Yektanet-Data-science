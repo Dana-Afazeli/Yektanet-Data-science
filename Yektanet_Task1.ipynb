{
  "nbformat": 4,
  "nbformat_minor": 0,
  "metadata": {
    "colab": {
      "name": "Yektanet_Task1.ipynb",
      "provenance": [],
      "mount_file_id": "1L6mQYtQhT1RaBbG71gvclT6C71JsU4o7",
      "authorship_tag": "ABX9TyM2mGpNtKUDXHF16uEXlV6a",
      "include_colab_link": true
    },
    "kernelspec": {
      "name": "python3",
      "display_name": "Python 3"
    }
  },
  "cells": [
    {
      "cell_type": "markdown",
      "metadata": {
        "id": "view-in-github",
        "colab_type": "text"
      },
      "source": [
        "<a href=\"https://colab.research.google.com/github/Dana-Afazeli/Yektanet-Data-science/blob/main/Yektanet_Task1.ipynb\" target=\"_parent\"><img src=\"https://colab.research.google.com/assets/colab-badge.svg\" alt=\"Open In Colab\"/></a>"
      ]
    },
    {
      "cell_type": "markdown",
      "metadata": {
        "id": "cieAnsDk2pKF"
      },
      "source": [
        "# Yektanet Data analysis task 1\r\n",
        "In this task we analyze a data sample gathered from an online shop in a 4 days span. \r\n",
        "\r\n",
        "\r\n",
        "## problem description\r\n",
        "provided data has the following columns:\r\n",
        "\r\n",
        "\r\n",
        "*   Time of event\r\n",
        "*   Type of event\r\n",
        "*   Product ID\r\n",
        "*   Category ID\r\n",
        "*   Brand\r\n",
        "*   Price\r\n",
        "*   User ID\r\n",
        "\r\n",
        "\r\n",
        "\r\n",
        "## objective\r\n",
        "We hope to be answer the following questions:\r\n",
        "\r\n",
        "\r\n",
        "1.   What is the field of work of this shop? [answer](#answer1)\r\n",
        "2.   Assuming that this shop wants to run a 1 hours sale for 10 goods, which goods do you suggest for the sale? What is the best time interval for this sale? [answer](#answer2)\r\n",
        "3.   What are the \"Luxury\" goods of this shop?\r\n",
        "4.   What company has better branding?\r\n",
        "\r\n"
      ]
    },
    {
      "cell_type": "code",
      "metadata": {
        "id": "LQzZKaSoyqwB"
      },
      "source": [
        "import numpy as np\r\n",
        "import pandas as pd\r\n",
        "import seaborn as sns\r\n",
        "import matplotlib.pyplot as plt"
      ],
      "execution_count": 1,
      "outputs": []
    },
    {
      "cell_type": "markdown",
      "metadata": {
        "id": "jflI_4YX6u53"
      },
      "source": [
        "Load the data and get a feeling of how it looks like"
      ]
    },
    {
      "cell_type": "code",
      "metadata": {
        "colab": {
          "base_uri": "https://localhost:8080/",
          "height": 198
        },
        "id": "j-sgQA8M6zGU",
        "outputId": "6ae6ff19-c968-4734-b0e0-7083b084289b"
      },
      "source": [
        "df = pd.read_csv(\"./drive/MyDrive/datasets/yektanet_tasks/task1_dataset.csv\", index_col = False)\r\n",
        "df.head()"
      ],
      "execution_count": null,
      "outputs": [
        {
          "output_type": "execute_result",
          "data": {
            "text/html": [
              "<div>\n",
              "<style scoped>\n",
              "    .dataframe tbody tr th:only-of-type {\n",
              "        vertical-align: middle;\n",
              "    }\n",
              "\n",
              "    .dataframe tbody tr th {\n",
              "        vertical-align: top;\n",
              "    }\n",
              "\n",
              "    .dataframe thead th {\n",
              "        text-align: right;\n",
              "    }\n",
              "</style>\n",
              "<table border=\"1\" class=\"dataframe\">\n",
              "  <thead>\n",
              "    <tr style=\"text-align: right;\">\n",
              "      <th></th>\n",
              "      <th>event_time</th>\n",
              "      <th>event_type</th>\n",
              "      <th>product_id</th>\n",
              "      <th>category_id</th>\n",
              "      <th>category_code</th>\n",
              "      <th>brand</th>\n",
              "      <th>price</th>\n",
              "      <th>user_id</th>\n",
              "    </tr>\n",
              "  </thead>\n",
              "  <tbody>\n",
              "    <tr>\n",
              "      <th>0</th>\n",
              "      <td>2019-10-01 00:00:00 UTC</td>\n",
              "      <td>view</td>\n",
              "      <td>3900821</td>\n",
              "      <td>2053013552326770905</td>\n",
              "      <td>appliances.environment.water_heater</td>\n",
              "      <td>aqua</td>\n",
              "      <td>33.20</td>\n",
              "      <td>554748717</td>\n",
              "    </tr>\n",
              "    <tr>\n",
              "      <th>1</th>\n",
              "      <td>2019-10-01 00:00:01 UTC</td>\n",
              "      <td>view</td>\n",
              "      <td>17200506</td>\n",
              "      <td>2053013559792632471</td>\n",
              "      <td>furniture.living_room.sofa</td>\n",
              "      <td>NaN</td>\n",
              "      <td>543.10</td>\n",
              "      <td>519107250</td>\n",
              "    </tr>\n",
              "    <tr>\n",
              "      <th>2</th>\n",
              "      <td>2019-10-01 00:00:01 UTC</td>\n",
              "      <td>view</td>\n",
              "      <td>1307067</td>\n",
              "      <td>2053013558920217191</td>\n",
              "      <td>computers.notebook</td>\n",
              "      <td>lenovo</td>\n",
              "      <td>251.74</td>\n",
              "      <td>550050854</td>\n",
              "    </tr>\n",
              "    <tr>\n",
              "      <th>3</th>\n",
              "      <td>2019-10-01 00:00:04 UTC</td>\n",
              "      <td>view</td>\n",
              "      <td>1004237</td>\n",
              "      <td>2053013555631882655</td>\n",
              "      <td>electronics.smartphone</td>\n",
              "      <td>apple</td>\n",
              "      <td>1081.98</td>\n",
              "      <td>535871217</td>\n",
              "    </tr>\n",
              "    <tr>\n",
              "      <th>4</th>\n",
              "      <td>2019-10-01 00:00:05 UTC</td>\n",
              "      <td>view</td>\n",
              "      <td>1480613</td>\n",
              "      <td>2053013561092866779</td>\n",
              "      <td>computers.desktop</td>\n",
              "      <td>pulser</td>\n",
              "      <td>908.62</td>\n",
              "      <td>512742880</td>\n",
              "    </tr>\n",
              "  </tbody>\n",
              "</table>\n",
              "</div>"
            ],
            "text/plain": [
              "                event_time event_type  product_id  ...   brand    price    user_id\n",
              "0  2019-10-01 00:00:00 UTC       view     3900821  ...    aqua    33.20  554748717\n",
              "1  2019-10-01 00:00:01 UTC       view    17200506  ...     NaN   543.10  519107250\n",
              "2  2019-10-01 00:00:01 UTC       view     1307067  ...  lenovo   251.74  550050854\n",
              "3  2019-10-01 00:00:04 UTC       view     1004237  ...   apple  1081.98  535871217\n",
              "4  2019-10-01 00:00:05 UTC       view     1480613  ...  pulser   908.62  512742880\n",
              "\n",
              "[5 rows x 8 columns]"
            ]
          },
          "metadata": {
            "tags": []
          },
          "execution_count": 32
        }
      ]
    },
    {
      "cell_type": "markdown",
      "metadata": {
        "id": "kBEMk7l-7oMt"
      },
      "source": [
        "get some feeling about the columns and attributes"
      ]
    },
    {
      "cell_type": "code",
      "metadata": {
        "colab": {
          "base_uri": "https://localhost:8080/"
        },
        "id": "BzO5V-e87F3j",
        "outputId": "e48bec40-9130-4bd5-ed75-1a13aa55bc75"
      },
      "source": [
        "# just a util descriptive function\r\n",
        "def my_describe(df):\r\n",
        "  print(df.describe(),\"\\n\\n\")\r\n",
        "  print(df.info())\r\n",
        "  N = df.shape[0]\r\n",
        "  print(\"\\n\\nnumber and percentage of NaN values in each column:\\n\")\r\n",
        "  for col in df.columns:\r\n",
        "    nulls = df[col].isnull().sum()\r\n",
        "    print(col, \":\" ,nulls, \",\", round((nulls/N) * 100, 2))\r\n",
        "\r\n",
        "my_describe(df)"
      ],
      "execution_count": null,
      "outputs": [
        {
          "output_type": "stream",
          "text": [
            "         product_id   category_id         price       user_id\n",
            "count  3.820450e+06  3.820450e+06  3.820450e+06  3.820450e+06\n",
            "mean   7.303264e+06  2.056139e+18  3.365825e+02  5.315324e+08\n",
            "std    1.001141e+07  1.595066e+16  3.859731e+02  1.697407e+07\n",
            "min    1.001588e+06  2.053014e+18  0.000000e+00  1.842654e+08\n",
            "25%    1.004872e+06  2.053014e+18  8.984000e+01  5.155822e+08\n",
            "50%    2.900022e+06  2.053014e+18  1.904500e+02  5.272590e+08\n",
            "75%    8.500086e+06  2.053014e+18  4.247200e+02  5.485322e+08\n",
            "max    5.490001e+07  2.172371e+18  2.574070e+03  5.568893e+08 \n",
            "\n",
            "\n",
            "<class 'pandas.core.frame.DataFrame'>\n",
            "RangeIndex: 3820450 entries, 0 to 3820449\n",
            "Data columns (total 8 columns):\n",
            " #   Column         Dtype  \n",
            "---  ------         -----  \n",
            " 0   event_time     object \n",
            " 1   event_type     object \n",
            " 2   product_id     int64  \n",
            " 3   category_id    int64  \n",
            " 4   category_code  object \n",
            " 5   brand          object \n",
            " 6   price          float64\n",
            " 7   user_id        int64  \n",
            "dtypes: float64(1), int64(3), object(4)\n",
            "memory usage: 233.2+ MB\n",
            "None\n",
            "\n",
            "\n",
            "number and percentage of NaN values in each column:\n",
            "\n",
            "event_time : 0 , 0.0\n",
            "event_type : 0 , 0.0\n",
            "product_id : 0 , 0.0\n",
            "category_id : 0 , 0.0\n",
            "category_code : 371502 , 9.72\n",
            "brand : 355871 , 9.31\n",
            "price : 0 , 0.0\n",
            "user_id : 0 , 0.0\n"
          ],
          "name": "stdout"
        }
      ]
    },
    {
      "cell_type": "markdown",
      "metadata": {
        "id": "KATHw14U8Yc9"
      },
      "source": [
        "First off, the lowest price is 0! we will take care of this later when we visualize the numerical data.\r\n",
        "\r\n",
        "Second, the NaN values. since the percentage of Na entries in the data is not that large (less than say 30%), we wont delete any column. we also wont delete any row with Na entries unless both category code and brand are Na in which case the event does not really give us any info."
      ]
    },
    {
      "cell_type": "code",
      "metadata": {
        "colab": {
          "base_uri": "https://localhost:8080/"
        },
        "id": "U39O94eJ7-3T",
        "outputId": "75dea9b0-5a06-47cc-aaaa-b3eb4dad6be3"
      },
      "source": [
        "# drop Na values\r\n",
        "df_no_Na = df.dropna(subset = ['category_code', 'brand'], how='all')\r\n",
        "my_describe(df_no_Na)\r\n"
      ],
      "execution_count": null,
      "outputs": [
        {
          "output_type": "stream",
          "text": [
            "<class 'pandas.core.frame.DataFrame'>\n",
            "Int64Index: 3718768 entries, 0 to 3820449\n",
            "Data columns (total 8 columns):\n",
            " #   Column         Dtype  \n",
            "---  ------         -----  \n",
            " 0   event_time     object \n",
            " 1   event_type     object \n",
            " 2   product_id     int64  \n",
            " 3   category_id    int64  \n",
            " 4   category_code  object \n",
            " 5   brand          object \n",
            " 6   price          float64\n",
            " 7   user_id        int64  \n",
            "dtypes: float64(1), int64(3), object(4)\n",
            "memory usage: 255.3+ MB\n",
            "\n",
            "\n",
            "number and percentage of NaN values in each column:\n",
            "\n",
            "event_time : 0 ,  0.0\n",
            "event_type : 0 ,  0.0\n",
            "product_id : 0 ,  0.0\n",
            "category_id : 0 ,  0.0\n",
            "category_code : 269820 ,  7.26\n",
            "brand : 254189 ,  6.84\n",
            "price : 0 ,  0.0\n",
            "user_id : 0 ,  0.0\n"
          ],
          "name": "stdout"
        }
      ]
    },
    {
      "cell_type": "markdown",
      "metadata": {
        "id": "dDQTxdkuCe67"
      },
      "source": [
        "<a name=\"answer1\"></a>\r\n",
        "## Answer 1\r\n",
        "Now that we have a clean data, lest tackle the first question. we start analysing our dataset's entries. We start by seeing the different values of categorical columns:"
      ]
    },
    {
      "cell_type": "code",
      "metadata": {
        "colab": {
          "base_uri": "https://localhost:8080/"
        },
        "id": "ZeHMAIvO_8Lo",
        "outputId": "c08cf262-828b-4839-b950-f592b9598812"
      },
      "source": [
        "### categorical analysis ###\r\n",
        "# take a copy of the main data to modify\r\n",
        "category_df = df_no_Na.copy()\r\n",
        "\r\n",
        "# analyzing category_code\r\n",
        "categories = df_no_Na.category_code.unique()\r\n",
        "print(\"\\n\\nthere are {0} categories and some of them are:\".format(len(categories)), categories[:10])\r\n",
        "\r\n",
        "# clean the category column with: appliancees, furniture, computers and ...\r\n",
        "def clean_category(row):\r\n",
        "  cat = str(row.category_code)\r\n",
        "  cat = cat[:cat.find('.')]\r\n",
        "  return cat\r\n",
        "\r\n",
        "category_df['category_code'] = category_df.apply(lambda row: clean_category(row), axis=1)\r\n",
        "categories = category_df.category_code.unique()\r\n",
        "print(\"\\n\\nthere are {0} categories after cleaning and they are:\".format(len(categories)), categories)"
      ],
      "execution_count": null,
      "outputs": [
        {
          "output_type": "stream",
          "text": [
            "\n",
            "\n",
            "there are 124 categories and some of them are: ['appliances.environment.water_heater' 'furniture.living_room.sofa'\n",
            " 'computers.notebook' 'electronics.smartphone' 'computers.desktop' nan\n",
            " 'apparel.shoes.keds' 'appliances.kitchen.microwave'\n",
            " 'furniture.bedroom.bed' 'electronics.video.tv']\n",
            "\n",
            "\n",
            "there are 14 categories after cleaning and they are: ['appliances' 'furniture' 'computers' 'electronics' 'na' 'apparel'\n",
            " 'construction' 'auto' 'kids' 'sport' 'accessories' 'medicine'\n",
            " 'stationery' 'country_yard']\n"
          ],
          "name": "stdout"
        }
      ]
    },
    {
      "cell_type": "code",
      "metadata": {
        "colab": {
          "base_uri": "https://localhost:8080/",
          "height": 402
        },
        "id": "cJ-GdcwwwSVm",
        "outputId": "aa551500-1c0f-422e-83fa-08ed066586e4"
      },
      "source": [
        "sns.catplot(x = \"category_code\", kind=\"count\", data=category_df, aspect = 3)"
      ],
      "execution_count": null,
      "outputs": [
        {
          "output_type": "execute_result",
          "data": {
            "text/plain": [
              "<seaborn.axisgrid.FacetGrid at 0x7fd5dfa7b1d0>"
            ]
          },
          "metadata": {
            "tags": []
          },
          "execution_count": 92
        },
        {
          "output_type": "display_data",
          "data": {
            "image/png": "[encoded data removed]",
            "text/plain": [
              "<Figure size 1080x360 with 1 Axes>"
            ]
          },
          "metadata": {
            "tags": [],
            "needs_background": "light"
          }
        }
      ]
    },
    {
      "cell_type": "markdown",
      "metadata": {
        "id": "K1A5tqfXy0te"
      },
      "source": [
        "\r\n",
        "Here we can answer our first question.\r\n",
        "As its supported by the plot above, this shop sells different types of product. from furniture to electronics to sport accessories to even medicine! so its really something like amazon or digikala. But as one can verify, the majority of traffic on this website is around electronic products. So if we were to guess a field of work for this shop, that would definitely be electronic products."
      ]
    },
    {
      "cell_type": "markdown",
      "metadata": {
        "id": "Qx0VSyGd6qQc"
      },
      "source": [
        "<a name=\"answer2\"></a>\r\n",
        "## Answer 2\r\n",
        "Now lets approach the second question. To asnwer this question we essentially need to know when and what products are \"bought\" more in order to maximize the expected price of the product that we want to put on sale.\r\n",
        "So all we have to do, is to plot the \"buy\" actions (maybe add \"cart\" actions as well) with respect to the time of the corresponding events:"
      ]
    },
    {
      "cell_type": "code",
      "metadata": {
        "colab": {
          "base_uri": "https://localhost:8080/"
        },
        "id": "TlZLU6sMyTs9",
        "outputId": "c1a9258b-67ed-41a7-b003-3a7f0707cc6a"
      },
      "source": [
        "# plotting \"buy\" with respect to time of transactions\r\n",
        "buy_df = df_no_Na.loc[df_no_Na['event_type'] == 'purchase']\r\n",
        "buy_df['event_time']"
      ],
      "execution_count": null,
      "outputs": [
        {
          "output_type": "execute_result",
          "data": {
            "text/plain": [
              "126        2019-10-01 00:02:14 UTC\n",
              "235        2019-10-01 00:04:37 UTC\n",
              "321        2019-10-01 00:07:07 UTC\n",
              "416        2019-10-01 00:09:26 UTC\n",
              "434        2019-10-01 00:09:54 UTC\n",
              "                    ...           \n",
              "3820185    2019-10-05 01:31:47 UTC\n",
              "3820198    2019-10-05 01:31:51 UTC\n",
              "3820240    2019-10-05 01:31:59 UTC\n",
              "3820368    2019-10-05 01:32:25 UTC\n",
              "3820426    2019-10-05 01:32:39 UTC\n",
              "Name: event_time, Length: 69961, dtype: object"
            ]
          },
          "metadata": {
            "tags": []
          },
          "execution_count": 118
        }
      ]
    },
    {
      "cell_type": "code",
      "metadata": {
        "id": "0yA2GH9f9t4H"
      },
      "source": [
        ""
      ],
      "execution_count": null,
      "outputs": []
    }
  ]
}