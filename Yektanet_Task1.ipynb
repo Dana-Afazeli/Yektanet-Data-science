{
  "nbformat": 4,
  "nbformat_minor": 0,
  "metadata": {
    "colab": {
      "name": "Yektanet_Task1.ipynb",
      "provenance": [],
      "mount_file_id": "1L6mQYtQhT1RaBbG71gvclT6C71JsU4o7",
      "authorship_tag": "ABX9TyOSDRW5Dz/HsABN4o9z8cd0",
      "include_colab_link": true
    },
    "kernelspec": {
      "name": "python3",
      "display_name": "Python 3"
    }
  },
  "cells": [
    {
      "cell_type": "markdown",
      "metadata": {
        "id": "view-in-github",
        "colab_type": "text"
      },
      "source": [
        "<a href=\"https://colab.research.google.com/github/Dana-Afazeli/Yektanet-Data-science/blob/main/Yektanet_Task1.ipynb\" target=\"_parent\"><img src=\"https://colab.research.google.com/assets/colab-badge.svg\" alt=\"Open In Colab\"/></a>"
      ]
    },
    {
      "cell_type": "code",
      "metadata": {
        "id": "LQzZKaSoyqwB"
      },
      "source": [
        "import numpy as np\r\n",
        "import pandas as pd\r\n",
        "import seaborn as sns\r\n",
        "import matplotlib.pyplot as plt"
      ],
      "execution_count": null,
      "outputs": []
    }
  ]
}